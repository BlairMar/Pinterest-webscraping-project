{
 "cells": [
  {
   "cell_type": "markdown",
   "metadata": {},
   "source": [
    "# ✨✨Instructions✨✨\n",
    "\n",
    "1. 🛠 Before uploading the required files on an EC2 instance, create a directory named, for example, *Pinterest*.\n",
    "\n",
    "2. 🛠 Using the command below and provided you are at the same level as the *EC2-Ubuntu-20.04* folder, upload the files from your PC to the EC2 instance:\n",
    "   \n",
    "   <span style=\"color:green\">***scp -i </path/my-key-pair.pem> ./EC2-Ubuntu-20.04/\\* ubuntu\\@\\<public-dns>\\:\\<path/>***</span>\n",
    "\n",
    "   The path in the EC2 instance would normally be *~/Pinterest* where *Pinterest* is the directory created previously.\n",
    "\n",
    "3. 🛠 Log in to your EC2 instance.\n",
    "4. 🛠 Moving into the *Pinterest* directory, run the following command:\n",
    "   \n",
    "   <span style=\"color:green\"> ***sudo docker build -t \\<image-name> .***</span>\n",
    "   \n",
    "5. 🛠 The container can then be created using:\n",
    "\n",
    "    <span style=\"color:green\">***sudo docker container run -it --name \\<container-name> --rm \\<image-name>:latest***</span>"
   ]
  },
  {
   "cell_type": "markdown",
   "metadata": {},
   "source": []
  }
 ],
 "metadata": {
  "language_info": {
   "name": "python"
  },
  "orig_nbformat": 4
 },
 "nbformat": 4,
 "nbformat_minor": 2
}
